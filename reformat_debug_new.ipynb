{
 "cells": [
  {
   "cell_type": "code",
   "execution_count": 1,
   "metadata": {},
   "outputs": [],
   "source": [
    "import numpy as np\n",
    "import os\n",
    "from PIL import Image\n",
    "from numpy import array\n",
    "float32 = 'float32'"
   ]
  },
  {
   "cell_type": "code",
   "execution_count": 106,
   "metadata": {},
   "outputs": [],
   "source": [
    "def reformat_answer(input_array):\n",
    "        \n",
    "    def area_calc(array):\n",
    "        # расчет площади ректа\n",
    "        x1 = int(array[0][0])\n",
    "        y1 = int(array[0][1])\n",
    "        x2 = int(array[2][0])\n",
    "        y2 = int(array[2][1])\n",
    "        s = (x2-x1)*(y2-y1)\n",
    "        return (s)    \n",
    "    \n",
    "    def change_suit_to_letter(suit_symbol):\n",
    "        suit_dict = {'♣':'c', '♦':'d','♥':'h','♠':'s','♦️':'d'}\n",
    "        return(suit_dict[suit_symbol])     \n",
    "    \n",
    "    def find_rang_small(suit_array,input_array):\n",
    "        array = suit_array[1]\n",
    "        array_check_first = array[0]\n",
    "        # координаты верхней левой точки ректа с мастью\n",
    "        x = int(array_check_first[0])\n",
    "        y = int(array_check_first[1])\n",
    "        # ранг находится над мастью\n",
    "        # за точку отчета принимаем верхнюю левую точку ректа с мастью\n",
    "        answer = 0\n",
    "        for i in range(len(input_array)):\n",
    "             # массив с которым сравниваем, координаты его верхней левой точки\n",
    "            array_first =  (input_array[i][1][0])                \n",
    "                # условие с дельтой по вхождения по х и у слева и справа\n",
    "            if x-10<int(array_first[0])<x+10\\\n",
    "                and y-70<array_first[1]<y-10\\\n",
    "                and area_calc(input_array[i][1])>600:         \n",
    "                    answer = i            \n",
    "        return answer\n",
    "       \n",
    "    # индексы мастей и рангов, которые вычтутся из исходного аррея\n",
    "    remove_index = []\n",
    "    card_suits = []\n",
    "    suits = ['♠','♥','♦️','♣','♦','♥','♠','♣'] \n",
    "    for i in range(len(input_array)):\n",
    "        if input_array[i][0] in suits:             \n",
    "            suit_array = input_array[i]\n",
    "            area = area_calc(suit_array[1])\n",
    "            remove_index += [i]\n",
    "            # отсеиваем ректы с мастями по площади (только маленькие)\n",
    "            if area < 2000:\n",
    "                # находим ранг \n",
    "                rang_index = find_rang_small(input_array[i],input_array)\n",
    "                rang_array = input_array[rang_index]\n",
    "                remove_index += [rang_index]\n",
    "                rang = rang_array[0]\n",
    "                rang_coord = rang_array[1]\n",
    "                # выводим координаты итогового ректа\n",
    "                first_point = [int(rang_array[1][0][0]),int(rang_array[1][0][1])]\n",
    "                second_point = [int(suit_array[1][2][0]),int(suit_array[1][2][1])]\n",
    "                res = {}\n",
    "                res['label']='Card'\n",
    "                res['box']= (first_point, second_point)\n",
    "                res['value'] = change_suit_to_letter(suit_array[0])+rang\n",
    "                card_suits += [res]\n",
    "    old = [input_array[i] for i in range(len(input_array)) if i not in remove_index]\n",
    "    \n",
    "    return old+card_suits"
   ]
  },
  {
   "cell_type": "code",
   "execution_count": 109,
   "metadata": {},
   "outputs": [
    {
     "data": {
      "text/plain": [
       "[{'label': 'Card', 'box': ([112, 1002], [145, 1091]), 'value': 'cq'},\n",
       " {'label': 'Card', 'box': ([35, 1006], [76, 1095]), 'value': 'ck'}]"
      ]
     },
     "execution_count": 109,
     "metadata": {},
     "output_type": "execute_result"
    }
   ],
   "source": [
    "reformat_answer(pred_3)"
   ]
  }
 ],
 "metadata": {
  "kernelspec": {
   "display_name": "Python 3",
   "language": "python",
   "name": "python3"
  },
  "language_info": {
   "codemirror_mode": {
    "name": "ipython",
    "version": 3
   },
   "file_extension": ".py",
   "mimetype": "text/x-python",
   "name": "python",
   "nbconvert_exporter": "python",
   "pygments_lexer": "ipython3",
   "version": "3.6.8"
  }
 },
 "nbformat": 4,
 "nbformat_minor": 2
}
